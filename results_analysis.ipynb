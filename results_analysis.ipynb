{
 "cells": [
  {
   "cell_type": "markdown",
   "id": "cd26d935",
   "metadata": {},
   "source": [
    "# LLM Deduction-Benchmark Analysis\n",
    "\n",
    "Three models  \n",
    "* mistral-7b-instruct \n",
    "* llama-2 3B chat\n",
    "* phi-2\n",
    "\n",
    "evaluated on N deduction and N abduction tasks.  \n",
    "This notebook loads the JSON result files, computes basic accuracy metrics, and explores performance vs. task characteristics such as proof-depth and rule / fact counts."
   ]
  },
  {
   "cell_type": "code",
   "execution_count": null,
   "id": "cb9d96b7",
   "metadata": {},
   "outputs": [
    {
     "name": "stdout",
     "output_type": "stream",
     "text": [
      "Loaded 425 rows\n"
     ]
    },
    {
     "data": {
      "text/html": [
       "<div>\n",
       "<style scoped>\n",
       "    .dataframe tbody tr th:only-of-type {\n",
       "        vertical-align: middle;\n",
       "    }\n",
       "\n",
       "    .dataframe tbody tr th {\n",
       "        vertical-align: top;\n",
       "    }\n",
       "\n",
       "    .dataframe thead th {\n",
       "        text-align: right;\n",
       "    }\n",
       "</style>\n",
       "<table border=\"1\" class=\"dataframe\">\n",
       "  <thead>\n",
       "    <tr style=\"text-align: right;\">\n",
       "      <th></th>\n",
       "      <th>num_rules</th>\n",
       "      <th>max_body_length</th>\n",
       "      <th>allow_recursion</th>\n",
       "      <th>branching_factor</th>\n",
       "      <th>proof_depth</th>\n",
       "      <th>num_base_facts</th>\n",
       "      <th>depth</th>\n",
       "      <th>reasoning_type</th>\n",
       "      <th>pred</th>\n",
       "      <th>gold</th>\n",
       "      <th>model</th>\n",
       "      <th>min_proof_depth</th>\n",
       "    </tr>\n",
       "  </thead>\n",
       "  <tbody>\n",
       "    <tr>\n",
       "      <th>377</th>\n",
       "      <td>4</td>\n",
       "      <td>3</td>\n",
       "      <td>False</td>\n",
       "      <td>2</td>\n",
       "      <td>1.0</td>\n",
       "      <td>12</td>\n",
       "      <td>1</td>\n",
       "      <td>deduction</td>\n",
       "      <td>NO</td>\n",
       "      <td>YES</td>\n",
       "      <td>phi</td>\n",
       "      <td>NaN</td>\n",
       "    </tr>\n",
       "    <tr>\n",
       "      <th>31</th>\n",
       "      <td>4</td>\n",
       "      <td>3</td>\n",
       "      <td>False</td>\n",
       "      <td>2</td>\n",
       "      <td>1.0</td>\n",
       "      <td>12</td>\n",
       "      <td>not applicable</td>\n",
       "      <td>deduction</td>\n",
       "      <td>NO</td>\n",
       "      <td>NO</td>\n",
       "      <td>mistral</td>\n",
       "      <td>NaN</td>\n",
       "    </tr>\n",
       "    <tr>\n",
       "      <th>141</th>\n",
       "      <td>12</td>\n",
       "      <td>3</td>\n",
       "      <td>False</td>\n",
       "      <td>2</td>\n",
       "      <td>1.0</td>\n",
       "      <td>12</td>\n",
       "      <td>not applicable</td>\n",
       "      <td>deduction</td>\n",
       "      <td>YES</td>\n",
       "      <td>NO</td>\n",
       "      <td>flan</td>\n",
       "      <td>NaN</td>\n",
       "    </tr>\n",
       "    <tr>\n",
       "      <th>147</th>\n",
       "      <td>8</td>\n",
       "      <td>3</td>\n",
       "      <td>False</td>\n",
       "      <td>2</td>\n",
       "      <td>2.0</td>\n",
       "      <td>8</td>\n",
       "      <td>not applicable</td>\n",
       "      <td>deduction</td>\n",
       "      <td>NO</td>\n",
       "      <td>NO</td>\n",
       "      <td>flan</td>\n",
       "      <td>NaN</td>\n",
       "    </tr>\n",
       "    <tr>\n",
       "      <th>85</th>\n",
       "      <td>4</td>\n",
       "      <td>3</td>\n",
       "      <td>False</td>\n",
       "      <td>2</td>\n",
       "      <td>2.0</td>\n",
       "      <td>8</td>\n",
       "      <td>not applicable</td>\n",
       "      <td>deduction</td>\n",
       "      <td>NO</td>\n",
       "      <td>NO</td>\n",
       "      <td>flan</td>\n",
       "      <td>NaN</td>\n",
       "    </tr>\n",
       "  </tbody>\n",
       "</table>\n",
       "</div>"
      ],
      "text/plain": [
       "     num_rules  max_body_length  allow_recursion  branching_factor  \\\n",
       "377          4                3            False                 2   \n",
       "31           4                3            False                 2   \n",
       "141         12                3            False                 2   \n",
       "147          8                3            False                 2   \n",
       "85           4                3            False                 2   \n",
       "\n",
       "     proof_depth  num_base_facts           depth reasoning_type pred gold  \\\n",
       "377          1.0              12               1      deduction   NO  YES   \n",
       "31           1.0              12  not applicable      deduction   NO   NO   \n",
       "141          1.0              12  not applicable      deduction  YES   NO   \n",
       "147          2.0               8  not applicable      deduction   NO   NO   \n",
       "85           2.0               8  not applicable      deduction   NO   NO   \n",
       "\n",
       "       model  min_proof_depth  \n",
       "377      phi              NaN  \n",
       "31   mistral              NaN  \n",
       "141     flan              NaN  \n",
       "147     flan              NaN  \n",
       "85      flan              NaN  "
      ]
     },
     "execution_count": 45,
     "metadata": {},
     "output_type": "execute_result"
    }
   ],
   "source": [
    "import json\n",
    "import pandas as pd\n",
    "import matplotlib.pyplot as plt\n",
    "import seaborn as sns\n",
    "from pathlib import Path\n",
    "from sklearn.utils import shuffle\n",
    "\n",
    "files = {\n",
    "    \"mistral\": Path(\"results/mistral_deduction_results.json\"),\n",
    "    \"llama\" : Path(\"results/llama2_deduction_results.json\"),\n",
    "    \"phi\": Path(\"results/phi2_deduction_results.json\"),\n",
    "}\n",
    "# ------------------------------------------------------------------\n",
    "\n",
    "records = []\n",
    "for model, fp in files.items():\n",
    "    with open(fp) as f:\n",
    "        data = json.load(f)\n",
    "    for d in data:\n",
    "        records.append({**d, \"model\": model})\n",
    "\n",
    "df = pd.DataFrame(records)\n",
    "print(f\"Loaded {df.shape[0]} rows\")\n",
    "\n",
    "# df = shuffle(df)\n",
    "df.head()"
   ]
  },
  {
   "cell_type": "markdown",
   "id": "740b0074",
   "metadata": {},
   "source": [
    "## Overall Accuracy"
   ]
  },
  {
   "cell_type": "code",
   "execution_count": 47,
   "id": "c3c43bd9",
   "metadata": {},
   "outputs": [
    {
     "data": {
      "text/html": [
       "<div>\n",
       "<style scoped>\n",
       "    .dataframe tbody tr th:only-of-type {\n",
       "        vertical-align: middle;\n",
       "    }\n",
       "\n",
       "    .dataframe tbody tr th {\n",
       "        vertical-align: top;\n",
       "    }\n",
       "\n",
       "    .dataframe thead th {\n",
       "        text-align: right;\n",
       "    }\n",
       "</style>\n",
       "<table border=\"1\" class=\"dataframe\">\n",
       "  <thead>\n",
       "    <tr style=\"text-align: right;\">\n",
       "      <th></th>\n",
       "      <th>accuracy %</th>\n",
       "    </tr>\n",
       "    <tr>\n",
       "      <th>model</th>\n",
       "      <th></th>\n",
       "    </tr>\n",
       "  </thead>\n",
       "  <tbody>\n",
       "    <tr>\n",
       "      <th>flan</th>\n",
       "      <td>54.1</td>\n",
       "    </tr>\n",
       "    <tr>\n",
       "      <th>gptneo</th>\n",
       "      <td>58.8</td>\n",
       "    </tr>\n",
       "    <tr>\n",
       "      <th>llama</th>\n",
       "      <td>58.8</td>\n",
       "    </tr>\n",
       "    <tr>\n",
       "      <th>mistral</th>\n",
       "      <td>58.8</td>\n",
       "    </tr>\n",
       "    <tr>\n",
       "      <th>phi</th>\n",
       "      <td>58.8</td>\n",
       "    </tr>\n",
       "  </tbody>\n",
       "</table>\n",
       "</div>"
      ],
      "text/plain": [
       "         accuracy %\n",
       "model              \n",
       "flan           54.1\n",
       "gptneo         58.8\n",
       "llama          58.8\n",
       "mistral        58.8\n",
       "phi            58.8"
      ]
     },
     "metadata": {},
     "output_type": "display_data"
    }
   ],
   "source": [
    "df[\"correct\"] = df[\"gold\"] == df[\"pred\"]\n",
    "\n",
    "acc = df.groupby(\"model\")[\"correct\"].mean().mul(100).round(1)\n",
    "display(acc.to_frame(\"accuracy %\"))"
   ]
  },
  {
   "cell_type": "markdown",
   "id": "55e06fff",
   "metadata": {},
   "source": [
    "## Accuracy by Proof Depth"
   ]
  },
  {
   "cell_type": "code",
   "execution_count": 48,
   "id": "db1d0ae9",
   "metadata": {},
   "outputs": [
    {
     "data": {
      "image/png": "[encoded data removed]",
      "text/plain": [
       "<Figure size 700x400 with 1 Axes>"
      ]
     },
     "metadata": {},
     "output_type": "display_data"
    }
   ],
   "source": [
    "depth_acc = (\n",
    "    df.groupby([\"model\", \"proof_depth\"])[\"correct\"]\n",
    "      .mean()\n",
    "      .reset_index()\n",
    "      .assign(accuracy=lambda x: x[\"correct\"]*100)\n",
    ")\n",
    "\n",
    "plt.figure(figsize=(7,4))\n",
    "sns.lineplot(\n",
    "    data=depth_acc,\n",
    "    x=\"proof_depth\", y=\"accuracy\", hue=\"model\", marker=\"o\"\n",
    ")\n",
    "plt.title(\"Accuracy vs. Proof-Depth\")\n",
    "plt.ylabel(\"Accuracy (%)\")\n",
    "plt.xlabel(\"Proof depth\")\n",
    "plt.ylim(0,100)\n",
    "plt.grid(alpha=.3)\n",
    "plt.show()"
   ]
  },
  {
   "cell_type": "markdown",
   "id": "82dfe537",
   "metadata": {},
   "source": [
    "## Accuracy by Rule Count"
   ]
  },
  {
   "cell_type": "code",
   "execution_count": 49,
   "id": "00e96507",
   "metadata": {},
   "outputs": [
    {
     "name": "stdout",
     "output_type": "stream",
     "text": [
      "The history saving thread hit an unexpected error (OperationalError('unable to open database file')).History will not be written to the database.\n"
     ]
    },
    {
     "data": {
      "image/png": "[encoded data removed]",
      "text/plain": [
       "<Figure size 700x400 with 1 Axes>"
      ]
     },
     "metadata": {},
     "output_type": "display_data"
    }
   ],
   "source": [
    "rules_acc = (\n",
    "    df.groupby([\"model\", \"num_rules\"])[\"correct\"]\n",
    "      .mean()\n",
    "      .reset_index()\n",
    "      .assign(accuracy=lambda x: x[\"correct\"]*100)\n",
    ")\n",
    "\n",
    "plt.figure(figsize=(7,4))\n",
    "sns.barplot(\n",
    "    data=rules_acc, x=\"num_rules\", y=\"accuracy\", hue=\"model\"\n",
    ")\n",
    "plt.title(\"Accuracy vs. #Rules\")\n",
    "plt.ylabel(\"Accuracy (%)\")\n",
    "plt.xlabel(\"Number of rules in task\")\n",
    "plt.ylim(0,100)\n",
    "plt.show()"
   ]
  },
  {
   "cell_type": "markdown",
   "id": "45a64747",
   "metadata": {},
   "source": [
    "## Confusion matrix-like view"
   ]
  },
  {
   "cell_type": "code",
   "execution_count": 50,
   "id": "3a4c9e14",
   "metadata": {},
   "outputs": [
    {
     "data": {
      "text/html": [
       "<div>\n",
       "<style scoped>\n",
       "    .dataframe tbody tr th:only-of-type {\n",
       "        vertical-align: middle;\n",
       "    }\n",
       "\n",
       "    .dataframe tbody tr th {\n",
       "        vertical-align: top;\n",
       "    }\n",
       "\n",
       "    .dataframe thead th {\n",
       "        text-align: right;\n",
       "    }\n",
       "</style>\n",
       "<table border=\"1\" class=\"dataframe\">\n",
       "  <thead>\n",
       "    <tr style=\"text-align: right;\">\n",
       "      <th>pred</th>\n",
       "      <th>NO</th>\n",
       "      <th>YES</th>\n",
       "      <th>All</th>\n",
       "    </tr>\n",
       "    <tr>\n",
       "      <th>gold</th>\n",
       "      <th></th>\n",
       "      <th></th>\n",
       "      <th></th>\n",
       "    </tr>\n",
       "  </thead>\n",
       "  <tbody>\n",
       "    <tr>\n",
       "      <th>NO</th>\n",
       "      <td>242</td>\n",
       "      <td>8</td>\n",
       "      <td>250</td>\n",
       "    </tr>\n",
       "    <tr>\n",
       "      <th>YES</th>\n",
       "      <td>171</td>\n",
       "      <td>4</td>\n",
       "      <td>175</td>\n",
       "    </tr>\n",
       "    <tr>\n",
       "      <th>All</th>\n",
       "      <td>413</td>\n",
       "      <td>12</td>\n",
       "      <td>425</td>\n",
       "    </tr>\n",
       "  </tbody>\n",
       "</table>\n",
       "</div>"
      ],
      "text/plain": [
       "pred   NO  YES  All\n",
       "gold               \n",
       "NO    242    8  250\n",
       "YES   171    4  175\n",
       "All   413   12  425"
      ]
     },
     "execution_count": 50,
     "metadata": {},
     "output_type": "execute_result"
    }
   ],
   "source": [
    "pd.crosstab(df[\"gold\"], df[\"pred\"], margins=True)"
   ]
  },
  {
   "cell_type": "markdown",
   "id": "5f666e26",
   "metadata": {},
   "source": [
    "## Hardest questions per model\n",
    "Investigate these in more detail -> try to understand why these might be more difficult"
   ]
  },
  {
   "cell_type": "code",
   "execution_count": null,
   "id": "07fb3482",
   "metadata": {},
   "outputs": [],
   "source": []
  }
 ],
 "metadata": {
  "kernelspec": {
   "display_name": "llm-benchmark",
   "language": "python",
   "name": "python3"
  },
  "language_info": {
   "codemirror_mode": {
    "name": "ipython",
    "version": 3
   },
   "file_extension": ".py",
   "mimetype": "text/x-python",
   "name": "python",
   "nbconvert_exporter": "python",
   "pygments_lexer": "ipython3",
   "version": "3.10.16"
  }
 },
 "nbformat": 4,
 "nbformat_minor": 5
}
